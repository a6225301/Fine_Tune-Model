{
 "cells": [
  {
   "cell_type": "code",
   "execution_count": 3,
   "metadata": {},
   "outputs": [],
   "source": [
    "from Voxel_Data_Process import *\n",
    "import gzip,pickle\n",
    "import numpy as np\n",
    "\n",
    "from sklearn.metrics import confusion_matrix\n",
    "from sklearn.metrics import classification_report\n",
    "from sklearn.metrics import recall_score\n",
    "from sklearn.metrics import roc_curve, auc\n",
    "\n",
    "from scipy import interp\n",
    "import matplotlib.pyplot as plt\n",
    "from sklearn.metrics import accuracy_score\n"
   ]
  },
  {
   "cell_type": "code",
   "execution_count": 4,
   "metadata": {},
   "outputs": [],
   "source": [
    "def read_y_val(pixel_size, fold):\n",
    "#     (x_train,y_train,x_val,y_val)=load_fold_data(pixel_size,fold)\n",
    "#     (x_train,y_train,x_val,y_val)=k_fold(pixel_size,fold)\n",
    "    (x_train,y_train,x_val,y_val)=k_fold(pixel_size,fold,0)\n",
    "\n",
    "    return y_val\n",
    "\n",
    "\n",
    "# 将y_val从[0 1]的双标签转为单标签\n",
    "def convert_label(y_val):\n",
    "     \n",
    "    y_val_after = []\n",
    "    y_val = list(y_val)\n",
    "    \n",
    "    for t in y_val:\n",
    "        t = list(t)       \n",
    "        if t == [1,0]:\n",
    "            y_val_after.append(0)\n",
    "        else:\n",
    "            y_val_after.append(1)\n",
    "    \n",
    "    return (np.array(y_val_after))\n",
    "\n",
    "def convert_label_pred(y_val_pred):\n",
    "    # 阈值\n",
    "    threshold = 0.5\n",
    "    \n",
    "    predicted_class = []\n",
    "    \n",
    "    for temp in y_val_pred:\n",
    "        if temp[1] < threshold:\n",
    "            predicted_class.append(0)\n",
    "        else:\n",
    "            predicted_class.append(1)\n",
    "        \n",
    "    return (np.array(predicted_class))\n"
   ]
  },
  {
   "cell_type": "code",
   "execution_count": 5,
   "metadata": {},
   "outputs": [],
   "source": [
    "def read_y_val_pred(function, time, ROC):\n",
    "    \n",
    "    # 预测的y_val_pred, 0-4对于第几则训练\n",
    "    y_val_pred = []\n",
    "    \n",
    "    # 判断是否含有SVM\n",
    "    if ('SVM' in function):\n",
    "        function1 = function[:-4]\n",
    "        \n",
    "        for fold in range(1,6):\n",
    "            with gzip.open('./Predict/'+function+'/'+function+'_Pred_'+(str)(fold)+'_4.pkl','rb') as f:\n",
    "                temp = pickle.load(f)\n",
    "                if ROC == 0:\n",
    "                    temp = convert_label_pred(temp)\n",
    "                y_val_pred.append(temp)\n",
    "        print ('SVM')\n",
    "    else:\n",
    "        for fold in range(1,6):\n",
    "            with gzip.open('./Predict/'+function+'/'+function+'_Pred_'+(str)(fold)+'_4.pkl','rb') as f:\n",
    "                temp = pickle.load(f)\n",
    "                print (temp.shape)\n",
    "                if ROC == 0:\n",
    "                    temp = convert_label_pred(temp)\n",
    "                y_val_pred.append(temp)\n",
    "        print ('No, SVM')\n",
    "        \n",
    "        \n",
    "    return y_val_pred"
   ]
  },
  {
   "cell_type": "code",
   "execution_count": 10,
   "metadata": {},
   "outputs": [],
   "source": [
    "def draw_ROC(function, time,line_color,pic_name):\n",
    "    mean_tpr = 0.0\n",
    "    mean_fpr = np.linspace(0, 1, 100)\n",
    "    y_pred = read_y_val_pred(function, time, 0)\n",
    "    for fold in range(0, 5):\n",
    "        fpr, tpr, thresholds = roc_curve(y_val[fold].ravel(), y_pred[fold].ravel())\n",
    "        mean_tpr += interp(mean_fpr, fpr, tpr)\n",
    "        mean_tpr[0] = 0.0\n",
    "        \n",
    "    # 计算fpr, tpr平均值\n",
    "    mean_tpr /= 5\n",
    "    mean_tpr[-1] = 1.0\n",
    "    mean_auc = auc(mean_fpr, mean_tpr)\n",
    "\n",
    "    plt.plot(mean_fpr, mean_tpr, linestyle='--',\n",
    "        label=pic_name+' (AUC = %0.3f)' % mean_auc,lw=2,color=line_color)\n",
    "    \n",
    "#     f = open('/home/ilab/Jupyter/CNN/Voxel_PY/Result/'+function+'.txt','a')\n",
    "#     f.write('AUC : '+str(mean_auc)+'\\n')\n",
    "#     f.close()\n",
    "\n",
    "\n",
    "\n",
    "\n"
   ]
  },
  {
   "cell_type": "code",
   "execution_count": 8,
   "metadata": {},
   "outputs": [
    {
     "name": "stdout",
     "output_type": "stream",
     "text": [
      "397\n",
      "384\n",
      "(2343, 64, 64, 64, 1)\n",
      "Start to split dataset....\n",
      "Random split dataset success....\n",
      "397\n",
      "384\n",
      "(2343, 64, 64, 64, 1)\n",
      "Start to split dataset....\n",
      "Random split dataset success....\n",
      "397\n",
      "384\n",
      "(2343, 64, 64, 64, 1)\n",
      "Start to split dataset....\n",
      "Random split dataset success....\n",
      "397\n",
      "384\n",
      "(2343, 64, 64, 64, 1)\n",
      "Start to split dataset....\n",
      "Random split dataset success....\n",
      "397\n",
      "384\n",
      "(2343, 64, 64, 64, 1)\n",
      "Start to split dataset....\n",
      "Random split dataset success....\n"
     ]
    }
   ],
   "source": [
    "y_val = []\n",
    "for fold in range(1, 6):\n",
    "    temp = read_y_val(pixel_size, fold)\n",
    "    temp = convert_label(temp)\n",
    "    y_val.append(temp)"
   ]
  },
  {
   "cell_type": "code",
   "execution_count": 12,
   "metadata": {},
   "outputs": [
    {
     "name": "stdout",
     "output_type": "stream",
     "text": [
      "(469, 2)\n",
      "(469, 2)\n",
      "(469, 2)\n",
      "(469, 2)\n",
      "(469, 2)\n",
      "No, SVM\n",
      "(469, 2)\n",
      "(469, 2)\n",
      "(469, 2)\n",
      "(469, 2)\n",
      "(469, 2)\n",
      "No, SVM\n"
     ]
    },
    {
     "data": {
      "image/png": "[encoded data removed]",
      "text/plain": [
       "<matplotlib.figure.Figure at 0x7f6b90201090>"
      ]
     },
     "metadata": {},
     "output_type": "display_data"
    }
   ],
   "source": [
    "\n",
    "draw_ROC('Final_NO_Saliency_SSD_Patience15', 0,'green','Ours')\n",
    "draw_ROC('Final_Sailency_ConMultiply_FeatureAddFusion_Addloss_Patience15', 0,'red','Ours')\n",
    "\n",
    "\n",
    "# draw_ROC('Single_Dilation_Conv', 0,'black','Ours')\n",
    "# draw_ROC('Single_Dilation_Conv', 0,'red','Dilation-4')\n",
    "\n",
    "# draw_ROC('Single_Dilation_Conv', 3,'pink','Ours')\n",
    "\n",
    "# draw_ROC('Single_Dilation_3_Conv', 4,'blue','Dilation-1')\n",
    "# draw_ROC('Single_Dilation_1_Conv', 4,'green','Dilation-2')\n",
    "\n",
    "# draw_ROC('Single_Dilation_2_Conv', 4,'black','Dilation-3')\n",
    "\n",
    "# draw_ROC('Single_Dilation_4_Conv', 4,'red','Dilation-4')\n",
    "\n",
    "\n",
    "\n",
    "\n",
    "lw = 2\n",
    "# 画ROC曲线\n",
    "plt.grid(True)\n",
    "# plt.plot([0,0.5],[0,1], linestyle='--',color='black')\n",
    "xlim=np.arange(0,0.6,0.1)\n",
    "ylim=np.arange(0.2,1,0.2)\n",
    "\n",
    "# plt.xticks.set_major_formatter(FormatStrFormatter('%g'))\n",
    "plt.xticks(xlim)\n",
    "plt.yticks(ylim)\n",
    "\n",
    "plt.xlim([0,0.5])\n",
    "plt.ylim([0,1])\n",
    "plt.xlabel('False Positive Rate')\n",
    "plt.ylabel('True Positive Rate')\n",
    "# plt.title('Receiver operating characteristic example')\n",
    "plt.legend(loc=\"lower right\")\n",
    "# plt.savefig('/home/ilab/Jupyter/CNN/Voxel_PY/Result/Result_1.png',figsize=(50, 50), dpi=400)\n",
    "# plt.savefig('/home/ilab/Jupyter/CNN/Voxel_PY/Result/Common_Result.png',figsize=(50, 50), dpi=400)\n",
    "\n",
    "plt.show()"
   ]
  },
  {
   "cell_type": "code",
   "execution_count": null,
   "metadata": {},
   "outputs": [],
   "source": []
  },
  {
   "cell_type": "code",
   "execution_count": null,
   "metadata": {},
   "outputs": [],
   "source": []
  }
 ],
 "metadata": {
  "kernelspec": {
   "display_name": "python2_sys",
   "language": "python",
   "name": "python2_sys"
  },
  "language_info": {
   "codemirror_mode": {
    "name": "ipython",
    "version": 2
   },
   "file_extension": ".py",
   "mimetype": "text/x-python",
   "name": "python",
   "nbconvert_exporter": "python",
   "pygments_lexer": "ipython2",
   "version": "2.7.6"
  }
 },
 "nbformat": 4,
 "nbformat_minor": 2
}
